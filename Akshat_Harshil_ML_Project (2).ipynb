{
 "cells": [
  {
   "cell_type": "code",
   "execution_count": 1,
   "metadata": {
    "id": "xv2HQXF-EFIf"
   },
   "outputs": [],
   "source": [
    "import pandas as pd\n",
    "import numpy as np\n",
    "pd.set_option('display.max_columns', None)\n",
    "import warnings\n",
    "warnings.filterwarnings('ignore')\n",
    "import plotly.graph_objects as go\n",
    "import plotly.express as px\n"
   ]
  },
  {
   "cell_type": "code",
   "execution_count": 2,
   "metadata": {
    "id": "79d00-fhEFIg"
   },
   "outputs": [],
   "source": [
    "data = pd.read_csv(\"new_retail_data.csv\")"
   ]
  },
  {
   "cell_type": "code",
   "execution_count": 3,
   "metadata": {
    "colab": {
     "base_uri": "https://localhost:8080/",
     "height": 201
    },
    "id": "tCnUqI5OEFIh",
    "outputId": "8da5b100-2a7e-4dd2-e40d-7bd6b5b19586"
   },
   "outputs": [
    {
     "data": {
      "text/html": [
       "<div>\n",
       "<style scoped>\n",
       "    .dataframe tbody tr th:only-of-type {\n",
       "        vertical-align: middle;\n",
       "    }\n",
       "\n",
       "    .dataframe tbody tr th {\n",
       "        vertical-align: top;\n",
       "    }\n",
       "\n",
       "    .dataframe thead th {\n",
       "        text-align: right;\n",
       "    }\n",
       "</style>\n",
       "<table border=\"1\" class=\"dataframe\">\n",
       "  <thead>\n",
       "    <tr style=\"text-align: right;\">\n",
       "      <th></th>\n",
       "      <th>Transaction_ID</th>\n",
       "      <th>Customer_ID</th>\n",
       "      <th>Name</th>\n",
       "      <th>Email</th>\n",
       "      <th>Phone</th>\n",
       "      <th>Address</th>\n",
       "      <th>City</th>\n",
       "      <th>State</th>\n",
       "      <th>Zipcode</th>\n",
       "      <th>Country</th>\n",
       "      <th>Age</th>\n",
       "      <th>Gender</th>\n",
       "      <th>Income</th>\n",
       "      <th>Customer_Segment</th>\n",
       "      <th>Date</th>\n",
       "      <th>Year</th>\n",
       "      <th>Month</th>\n",
       "      <th>Time</th>\n",
       "      <th>Total_Purchases</th>\n",
       "      <th>Amount</th>\n",
       "      <th>Total_Amount</th>\n",
       "      <th>Product_Category</th>\n",
       "      <th>Product_Brand</th>\n",
       "      <th>Product_Type</th>\n",
       "      <th>Feedback</th>\n",
       "      <th>Shipping_Method</th>\n",
       "      <th>Payment_Method</th>\n",
       "      <th>Order_Status</th>\n",
       "      <th>Ratings</th>\n",
       "      <th>products</th>\n",
       "    </tr>\n",
       "  </thead>\n",
       "  <tbody>\n",
       "    <tr>\n",
       "      <th>0</th>\n",
       "      <td>8691788.0</td>\n",
       "      <td>37249.0</td>\n",
       "      <td>Michelle Harrington</td>\n",
       "      <td>Ebony39@gmail.com</td>\n",
       "      <td>1.414787e+09</td>\n",
       "      <td>3959 Amanda Burgs</td>\n",
       "      <td>Dortmund</td>\n",
       "      <td>Berlin</td>\n",
       "      <td>77985.0</td>\n",
       "      <td>Germany</td>\n",
       "      <td>21.0</td>\n",
       "      <td>Male</td>\n",
       "      <td>Low</td>\n",
       "      <td>Regular</td>\n",
       "      <td>9/18/2023</td>\n",
       "      <td>2023.0</td>\n",
       "      <td>September</td>\n",
       "      <td>22:03:55</td>\n",
       "      <td>3.0</td>\n",
       "      <td>108.028757</td>\n",
       "      <td>324.086270</td>\n",
       "      <td>Clothing</td>\n",
       "      <td>Nike</td>\n",
       "      <td>Shorts</td>\n",
       "      <td>Excellent</td>\n",
       "      <td>Same-Day</td>\n",
       "      <td>Debit Card</td>\n",
       "      <td>Shipped</td>\n",
       "      <td>5.0</td>\n",
       "      <td>Cycling shorts</td>\n",
       "    </tr>\n",
       "    <tr>\n",
       "      <th>1</th>\n",
       "      <td>2174773.0</td>\n",
       "      <td>69749.0</td>\n",
       "      <td>Kelsey Hill</td>\n",
       "      <td>Mark36@gmail.com</td>\n",
       "      <td>6.852900e+09</td>\n",
       "      <td>82072 Dawn Centers</td>\n",
       "      <td>Nottingham</td>\n",
       "      <td>England</td>\n",
       "      <td>99071.0</td>\n",
       "      <td>UK</td>\n",
       "      <td>19.0</td>\n",
       "      <td>Female</td>\n",
       "      <td>Low</td>\n",
       "      <td>Premium</td>\n",
       "      <td>12/31/2023</td>\n",
       "      <td>2023.0</td>\n",
       "      <td>December</td>\n",
       "      <td>8:42:04</td>\n",
       "      <td>2.0</td>\n",
       "      <td>403.353907</td>\n",
       "      <td>806.707815</td>\n",
       "      <td>Electronics</td>\n",
       "      <td>Samsung</td>\n",
       "      <td>Tablet</td>\n",
       "      <td>Excellent</td>\n",
       "      <td>Standard</td>\n",
       "      <td>Credit Card</td>\n",
       "      <td>Processing</td>\n",
       "      <td>4.0</td>\n",
       "      <td>Lenovo Tab</td>\n",
       "    </tr>\n",
       "  </tbody>\n",
       "</table>\n",
       "</div>"
      ],
      "text/plain": [
       "   Transaction_ID  Customer_ID                 Name              Email  \\\n",
       "0       8691788.0      37249.0  Michelle Harrington  Ebony39@gmail.com   \n",
       "1       2174773.0      69749.0          Kelsey Hill   Mark36@gmail.com   \n",
       "\n",
       "          Phone             Address        City    State  Zipcode  Country  \\\n",
       "0  1.414787e+09   3959 Amanda Burgs    Dortmund   Berlin  77985.0  Germany   \n",
       "1  6.852900e+09  82072 Dawn Centers  Nottingham  England  99071.0       UK   \n",
       "\n",
       "    Age  Gender Income Customer_Segment        Date    Year      Month  \\\n",
       "0  21.0    Male    Low          Regular   9/18/2023  2023.0  September   \n",
       "1  19.0  Female    Low          Premium  12/31/2023  2023.0   December   \n",
       "\n",
       "       Time  Total_Purchases      Amount  Total_Amount Product_Category  \\\n",
       "0  22:03:55              3.0  108.028757    324.086270         Clothing   \n",
       "1   8:42:04              2.0  403.353907    806.707815      Electronics   \n",
       "\n",
       "  Product_Brand Product_Type   Feedback Shipping_Method Payment_Method  \\\n",
       "0          Nike       Shorts  Excellent        Same-Day     Debit Card   \n",
       "1       Samsung       Tablet  Excellent        Standard    Credit Card   \n",
       "\n",
       "  Order_Status  Ratings        products  \n",
       "0      Shipped      5.0  Cycling shorts  \n",
       "1   Processing      4.0      Lenovo Tab  "
      ]
     },
     "execution_count": 3,
     "metadata": {},
     "output_type": "execute_result"
    }
   ],
   "source": [
    "data.head(2)"
   ]
  },
  {
   "cell_type": "code",
   "execution_count": 4,
   "metadata": {
    "colab": {
     "base_uri": "https://localhost:8080/",
     "height": 320
    },
    "id": "J4J0386-EFIi",
    "outputId": "5fe11ac2-5312-43e0-85e9-923e9b94de9e"
   },
   "outputs": [
    {
     "data": {
      "text/html": [
       "<div>\n",
       "<style scoped>\n",
       "    .dataframe tbody tr th:only-of-type {\n",
       "        vertical-align: middle;\n",
       "    }\n",
       "\n",
       "    .dataframe tbody tr th {\n",
       "        vertical-align: top;\n",
       "    }\n",
       "\n",
       "    .dataframe thead th {\n",
       "        text-align: right;\n",
       "    }\n",
       "</style>\n",
       "<table border=\"1\" class=\"dataframe\">\n",
       "  <thead>\n",
       "    <tr style=\"text-align: right;\">\n",
       "      <th></th>\n",
       "      <th>Transaction_ID</th>\n",
       "      <th>Customer_ID</th>\n",
       "      <th>Phone</th>\n",
       "      <th>Zipcode</th>\n",
       "      <th>Age</th>\n",
       "      <th>Year</th>\n",
       "      <th>Total_Purchases</th>\n",
       "      <th>Amount</th>\n",
       "      <th>Total_Amount</th>\n",
       "      <th>Ratings</th>\n",
       "    </tr>\n",
       "  </thead>\n",
       "  <tbody>\n",
       "    <tr>\n",
       "      <th>count</th>\n",
       "      <td>3.016770e+05</td>\n",
       "      <td>301702.000000</td>\n",
       "      <td>3.016480e+05</td>\n",
       "      <td>301670.000000</td>\n",
       "      <td>301837.000000</td>\n",
       "      <td>301660.000000</td>\n",
       "      <td>301649.000000</td>\n",
       "      <td>301653.000000</td>\n",
       "      <td>301660.000000</td>\n",
       "      <td>301826.000000</td>\n",
       "    </tr>\n",
       "    <tr>\n",
       "      <th>mean</th>\n",
       "      <td>5.495823e+06</td>\n",
       "      <td>55006.553934</td>\n",
       "      <td>5.501464e+09</td>\n",
       "      <td>50298.951019</td>\n",
       "      <td>35.481326</td>\n",
       "      <td>2023.165113</td>\n",
       "      <td>5.359729</td>\n",
       "      <td>255.163659</td>\n",
       "      <td>1367.651156</td>\n",
       "      <td>3.162670</td>\n",
       "    </tr>\n",
       "    <tr>\n",
       "      <th>std</th>\n",
       "      <td>2.595565e+06</td>\n",
       "      <td>26005.675200</td>\n",
       "      <td>2.596017e+09</td>\n",
       "      <td>28972.807134</td>\n",
       "      <td>15.021933</td>\n",
       "      <td>0.371283</td>\n",
       "      <td>2.868575</td>\n",
       "      <td>141.389640</td>\n",
       "      <td>1128.998515</td>\n",
       "      <td>1.320827</td>\n",
       "    </tr>\n",
       "    <tr>\n",
       "      <th>min</th>\n",
       "      <td>1.000007e+06</td>\n",
       "      <td>10000.000000</td>\n",
       "      <td>1.000049e+09</td>\n",
       "      <td>501.000000</td>\n",
       "      <td>18.000000</td>\n",
       "      <td>2023.000000</td>\n",
       "      <td>1.000000</td>\n",
       "      <td>10.000219</td>\n",
       "      <td>10.003750</td>\n",
       "      <td>1.000000</td>\n",
       "    </tr>\n",
       "    <tr>\n",
       "      <th>25%</th>\n",
       "      <td>3.247930e+06</td>\n",
       "      <td>32469.250000</td>\n",
       "      <td>3.255061e+09</td>\n",
       "      <td>25425.000000</td>\n",
       "      <td>22.000000</td>\n",
       "      <td>2023.000000</td>\n",
       "      <td>3.000000</td>\n",
       "      <td>132.890764</td>\n",
       "      <td>438.724278</td>\n",
       "      <td>2.000000</td>\n",
       "    </tr>\n",
       "    <tr>\n",
       "      <th>50%</th>\n",
       "      <td>5.499657e+06</td>\n",
       "      <td>55012.000000</td>\n",
       "      <td>5.505812e+09</td>\n",
       "      <td>50602.500000</td>\n",
       "      <td>32.000000</td>\n",
       "      <td>2023.000000</td>\n",
       "      <td>5.000000</td>\n",
       "      <td>255.470969</td>\n",
       "      <td>1041.117547</td>\n",
       "      <td>3.000000</td>\n",
       "    </tr>\n",
       "    <tr>\n",
       "      <th>75%</th>\n",
       "      <td>7.739509e+06</td>\n",
       "      <td>77511.000000</td>\n",
       "      <td>7.749860e+09</td>\n",
       "      <td>75252.000000</td>\n",
       "      <td>46.000000</td>\n",
       "      <td>2023.000000</td>\n",
       "      <td>8.000000</td>\n",
       "      <td>377.672606</td>\n",
       "      <td>2029.999853</td>\n",
       "      <td>4.000000</td>\n",
       "    </tr>\n",
       "    <tr>\n",
       "      <th>max</th>\n",
       "      <td>9.999995e+06</td>\n",
       "      <td>99999.000000</td>\n",
       "      <td>9.999996e+09</td>\n",
       "      <td>99949.000000</td>\n",
       "      <td>70.000000</td>\n",
       "      <td>2024.000000</td>\n",
       "      <td>10.000000</td>\n",
       "      <td>499.997911</td>\n",
       "      <td>4999.625796</td>\n",
       "      <td>5.000000</td>\n",
       "    </tr>\n",
       "  </tbody>\n",
       "</table>\n",
       "</div>"
      ],
      "text/plain": [
       "       Transaction_ID    Customer_ID         Phone        Zipcode  \\\n",
       "count    3.016770e+05  301702.000000  3.016480e+05  301670.000000   \n",
       "mean     5.495823e+06   55006.553934  5.501464e+09   50298.951019   \n",
       "std      2.595565e+06   26005.675200  2.596017e+09   28972.807134   \n",
       "min      1.000007e+06   10000.000000  1.000049e+09     501.000000   \n",
       "25%      3.247930e+06   32469.250000  3.255061e+09   25425.000000   \n",
       "50%      5.499657e+06   55012.000000  5.505812e+09   50602.500000   \n",
       "75%      7.739509e+06   77511.000000  7.749860e+09   75252.000000   \n",
       "max      9.999995e+06   99999.000000  9.999996e+09   99949.000000   \n",
       "\n",
       "                 Age           Year  Total_Purchases         Amount  \\\n",
       "count  301837.000000  301660.000000    301649.000000  301653.000000   \n",
       "mean       35.481326    2023.165113         5.359729     255.163659   \n",
       "std        15.021933       0.371283         2.868575     141.389640   \n",
       "min        18.000000    2023.000000         1.000000      10.000219   \n",
       "25%        22.000000    2023.000000         3.000000     132.890764   \n",
       "50%        32.000000    2023.000000         5.000000     255.470969   \n",
       "75%        46.000000    2023.000000         8.000000     377.672606   \n",
       "max        70.000000    2024.000000        10.000000     499.997911   \n",
       "\n",
       "        Total_Amount        Ratings  \n",
       "count  301660.000000  301826.000000  \n",
       "mean     1367.651156       3.162670  \n",
       "std      1128.998515       1.320827  \n",
       "min        10.003750       1.000000  \n",
       "25%       438.724278       2.000000  \n",
       "50%      1041.117547       3.000000  \n",
       "75%      2029.999853       4.000000  \n",
       "max      4999.625796       5.000000  "
      ]
     },
     "execution_count": 4,
     "metadata": {},
     "output_type": "execute_result"
    }
   ],
   "source": [
    "data.describe()"
   ]
  },
  {
   "cell_type": "code",
   "execution_count": 5,
   "metadata": {
    "colab": {
     "base_uri": "https://localhost:8080/"
    },
    "id": "ddoS0sI1EFIj",
    "outputId": "c1f1e9a9-d63c-4757-9fe1-580967d047a6"
   },
   "outputs": [
    {
     "name": "stdout",
     "output_type": "stream",
     "text": [
      "<class 'pandas.core.frame.DataFrame'>\n",
      "RangeIndex: 302010 entries, 0 to 302009\n",
      "Data columns (total 30 columns):\n",
      " #   Column            Non-Null Count   Dtype  \n",
      "---  ------            --------------   -----  \n",
      " 0   Transaction_ID    301677 non-null  float64\n",
      " 1   Customer_ID       301702 non-null  float64\n",
      " 2   Name              301628 non-null  object \n",
      " 3   Email             301663 non-null  object \n",
      " 4   Phone             301648 non-null  float64\n",
      " 5   Address           301695 non-null  object \n",
      " 6   City              301762 non-null  object \n",
      " 7   State             301729 non-null  object \n",
      " 8   Zipcode           301670 non-null  float64\n",
      " 9   Country           301739 non-null  object \n",
      " 10  Age               301837 non-null  float64\n",
      " 11  Gender            301693 non-null  object \n",
      " 12  Income            301720 non-null  object \n",
      " 13  Customer_Segment  301795 non-null  object \n",
      " 14  Date              301651 non-null  object \n",
      " 15  Year              301660 non-null  float64\n",
      " 16  Month             301737 non-null  object \n",
      " 17  Time              301660 non-null  object \n",
      " 18  Total_Purchases   301649 non-null  float64\n",
      " 19  Amount            301653 non-null  float64\n",
      " 20  Total_Amount      301660 non-null  float64\n",
      " 21  Product_Category  301727 non-null  object \n",
      " 22  Product_Brand     301729 non-null  object \n",
      " 23  Product_Type      302010 non-null  object \n",
      " 24  Feedback          301826 non-null  object \n",
      " 25  Shipping_Method   301673 non-null  object \n",
      " 26  Payment_Method    301713 non-null  object \n",
      " 27  Order_Status      301775 non-null  object \n",
      " 28  Ratings           301826 non-null  float64\n",
      " 29  products          302010 non-null  object \n",
      "dtypes: float64(10), object(20)\n",
      "memory usage: 69.1+ MB\n"
     ]
    }
   ],
   "source": [
    "data.info()"
   ]
  },
  {
   "cell_type": "code",
   "execution_count": 6,
   "metadata": {
    "colab": {
     "base_uri": "https://localhost:8080/",
     "height": 1000
    },
    "id": "IA9TA5lVEFIk",
    "outputId": "de104fd7-6e68-4794-ec2f-1b7c7b0d2fc8"
   },
   "outputs": [
    {
     "data": {
      "text/plain": [
       "Transaction_ID      333\n",
       "Customer_ID         308\n",
       "Name                382\n",
       "Email               347\n",
       "Phone               362\n",
       "Address             315\n",
       "City                248\n",
       "State               281\n",
       "Zipcode             340\n",
       "Country             271\n",
       "Age                 173\n",
       "Gender              317\n",
       "Income              290\n",
       "Customer_Segment    215\n",
       "Date                359\n",
       "Year                350\n",
       "Month               273\n",
       "Time                350\n",
       "Total_Purchases     361\n",
       "Amount              357\n",
       "Total_Amount        350\n",
       "Product_Category    283\n",
       "Product_Brand       281\n",
       "Product_Type          0\n",
       "Feedback            184\n",
       "Shipping_Method     337\n",
       "Payment_Method      297\n",
       "Order_Status        235\n",
       "Ratings             184\n",
       "products              0\n",
       "dtype: int64"
      ]
     },
     "execution_count": 6,
     "metadata": {},
     "output_type": "execute_result"
    }
   ],
   "source": [
    "data.isnull().sum()"
   ]
  },
  {
   "cell_type": "code",
   "execution_count": 7,
   "metadata": {
    "colab": {
     "base_uri": "https://localhost:8080/"
    },
    "id": "Q8pMT7V5EFIl",
    "outputId": "688fc61b-78d5-48bf-cdfd-13d0617935ef"
   },
   "outputs": [
    {
     "name": "stdout",
     "output_type": "stream",
     "text": [
      "Transaction_ID        0\n",
      "Customer_ID           0\n",
      "Name                382\n",
      "Email               347\n",
      "Phone                 0\n",
      "Address             315\n",
      "City                248\n",
      "State               281\n",
      "Zipcode               0\n",
      "Country             271\n",
      "Age                   0\n",
      "Gender              317\n",
      "Income              290\n",
      "Customer_Segment    215\n",
      "Date                359\n",
      "Year                  0\n",
      "Month               273\n",
      "Time                350\n",
      "Total_Purchases     361\n",
      "Amount              357\n",
      "Total_Amount        350\n",
      "Product_Category    283\n",
      "Product_Brand       281\n",
      "Product_Type          0\n",
      "Feedback            184\n",
      "Shipping_Method     337\n",
      "Payment_Method      297\n",
      "Order_Status        235\n",
      "Ratings               0\n",
      "products              0\n",
      "dtype: int64\n"
     ]
    }
   ],
   "source": [
    "for col in ['Transaction_ID', 'Customer_ID', 'Phone','Zipcode' ,'Age','Year' ,'Ratings']:\n",
    "    if data[col].isna().any():\n",
    "        # Calculating the mean of the column (ignoring NaN values)\n",
    "        col_mean = data[col].mean(skipna=True)\n",
    "\n",
    "        # Filling NaN values with the mean\n",
    "        data[col].fillna(col_mean, inplace=True)\n",
    "\n",
    "    # Converting the column to integer dtype\n",
    "    data[col] = data[col].astype(int)\n",
    "\n",
    "print(data.isnull().sum())\n"
   ]
  },
  {
   "cell_type": "code",
   "execution_count": 8,
   "metadata": {
    "id": "eLgquZNrEFIo"
   },
   "outputs": [],
   "source": [
    "data['Date'] = pd.to_datetime(data['Date']).dt.strftime('%Y-%m-%d')\n",
    "data['Time'] = pd.to_datetime(data['Time']).dt.strftime('%H:%M:%S')"
   ]
  },
  {
   "cell_type": "code",
   "execution_count": 9,
   "metadata": {
    "colab": {
     "base_uri": "https://localhost:8080/"
    },
    "id": "M3iggRzMEFIp",
    "outputId": "7607ca5e-7929-4c85-d09a-dd0b0ec18b33"
   },
   "outputs": [
    {
     "name": "stdout",
     "output_type": "stream",
     "text": [
      "<class 'pandas.core.frame.DataFrame'>\n",
      "RangeIndex: 302010 entries, 0 to 302009\n",
      "Data columns (total 30 columns):\n",
      " #   Column            Non-Null Count   Dtype  \n",
      "---  ------            --------------   -----  \n",
      " 0   Transaction_ID    302010 non-null  int32  \n",
      " 1   Customer_ID       302010 non-null  int32  \n",
      " 2   Name              301628 non-null  object \n",
      " 3   Email             301663 non-null  object \n",
      " 4   Phone             302010 non-null  int32  \n",
      " 5   Address           301695 non-null  object \n",
      " 6   City              301762 non-null  object \n",
      " 7   State             301729 non-null  object \n",
      " 8   Zipcode           302010 non-null  int32  \n",
      " 9   Country           301739 non-null  object \n",
      " 10  Age               302010 non-null  int32  \n",
      " 11  Gender            301693 non-null  object \n",
      " 12  Income            301720 non-null  object \n",
      " 13  Customer_Segment  301795 non-null  object \n",
      " 14  Date              301651 non-null  object \n",
      " 15  Year              302010 non-null  int32  \n",
      " 16  Month             301737 non-null  object \n",
      " 17  Time              301660 non-null  object \n",
      " 18  Total_Purchases   301649 non-null  float64\n",
      " 19  Amount            301653 non-null  float64\n",
      " 20  Total_Amount      301660 non-null  float64\n",
      " 21  Product_Category  301727 non-null  object \n",
      " 22  Product_Brand     301729 non-null  object \n",
      " 23  Product_Type      302010 non-null  object \n",
      " 24  Feedback          301826 non-null  object \n",
      " 25  Shipping_Method   301673 non-null  object \n",
      " 26  Payment_Method    301713 non-null  object \n",
      " 27  Order_Status      301775 non-null  object \n",
      " 28  Ratings           302010 non-null  int32  \n",
      " 29  products          302010 non-null  object \n",
      "dtypes: float64(3), int32(7), object(20)\n",
      "memory usage: 61.1+ MB\n"
     ]
    }
   ],
   "source": [
    "data.info()"
   ]
  },
  {
   "cell_type": "code",
   "execution_count": 10,
   "metadata": {
    "colab": {
     "base_uri": "https://localhost:8080/"
    },
    "id": "dLI5URhFEFIp",
    "outputId": "82238a32-7f80-4e27-92fe-263447ec446e"
   },
   "outputs": [
    {
     "data": {
      "text/plain": [
       "4"
      ]
     },
     "execution_count": 10,
     "metadata": {},
     "output_type": "execute_result"
    }
   ],
   "source": [
    "data.duplicated().sum()"
   ]
  },
  {
   "cell_type": "code",
   "execution_count": 11,
   "metadata": {
    "id": "ANhBX-VpEFIq"
   },
   "outputs": [],
   "source": [
    "data.drop_duplicates(inplace=True)"
   ]
  },
  {
   "cell_type": "code",
   "execution_count": 12,
   "metadata": {
    "colab": {
     "base_uri": "https://localhost:8080/"
    },
    "id": "KEuwyR4OEFIq",
    "outputId": "9423b1b2-3b23-4370-eab8-97a6b3c7a31d"
   },
   "outputs": [
    {
     "data": {
      "text/plain": [
       "0"
      ]
     },
     "execution_count": 12,
     "metadata": {},
     "output_type": "execute_result"
    }
   ],
   "source": [
    "data.duplicated().sum()"
   ]
  },
  {
   "cell_type": "code",
   "execution_count": 13,
   "metadata": {
    "colab": {
     "base_uri": "https://localhost:8080/"
    },
    "id": "Bl9s-1_uEFIq",
    "outputId": "caeabce2-c291-40fd-f237-efe8596c5257"
   },
   "outputs": [
    {
     "data": {
      "text/plain": [
       "(302006, 30)"
      ]
     },
     "execution_count": 13,
     "metadata": {},
     "output_type": "execute_result"
    }
   ],
   "source": [
    "data.shape"
   ]
  },
  {
   "cell_type": "code",
   "execution_count": 14,
   "metadata": {
    "colab": {
     "base_uri": "https://localhost:8080/",
     "height": 1000
    },
    "id": "PS9U6uz9EFIr",
    "outputId": "946f991b-55d7-4a4d-8c73-356f4f16f406"
   },
   "outputs": [
    {
     "data": {
      "text/plain": [
       "Transaction_ID        0\n",
       "Customer_ID           0\n",
       "Name                382\n",
       "Email               347\n",
       "Phone                 0\n",
       "Address             315\n",
       "City                248\n",
       "State               281\n",
       "Zipcode               0\n",
       "Country             271\n",
       "Age                   0\n",
       "Gender              317\n",
       "Income              290\n",
       "Customer_Segment    215\n",
       "Date                359\n",
       "Year                  0\n",
       "Month               273\n",
       "Time                350\n",
       "Total_Purchases     361\n",
       "Amount              356\n",
       "Total_Amount        350\n",
       "Product_Category    283\n",
       "Product_Brand       281\n",
       "Product_Type          0\n",
       "Feedback            184\n",
       "Shipping_Method     337\n",
       "Payment_Method      297\n",
       "Order_Status        235\n",
       "Ratings               0\n",
       "products              0\n",
       "dtype: int64"
      ]
     },
     "execution_count": 14,
     "metadata": {},
     "output_type": "execute_result"
    }
   ],
   "source": [
    "data.isnull().sum()"
   ]
  },
  {
   "cell_type": "code",
   "execution_count": 15,
   "metadata": {
    "colab": {
     "base_uri": "https://localhost:8080/"
    },
    "id": "oPZt-o0ZEFIr",
    "outputId": "a25b109b-65e7-48c6-cc02-3b5a50d168a0"
   },
   "outputs": [
    {
     "name": "stdout",
     "output_type": "stream",
     "text": [
      "Empty DataFrame\n",
      "Columns: [Transaction_ID, Customer_ID, Name, Email, Phone, Address, City, State, Zipcode, Country, Age, Gender, Income, Customer_Segment, Date, Year, Month, Time, Total_Purchases, Amount, Total_Amount, Product_Category, Product_Brand, Product_Type, Feedback, Shipping_Method, Payment_Method, Order_Status, Ratings, products]\n",
      "Index: []\n"
     ]
    }
   ],
   "source": [
    "# Filter rows where any of the specified columns have value 0 or negative\n",
    "filtered_data = data[(data['Total_Purchases'] <= 0) | (data['Amount'] <= 0) | (data['Total_Amount'] <= 0)]\n",
    "\n",
    "print(filtered_data)\n"
   ]
  },
  {
   "cell_type": "code",
   "execution_count": 16,
   "metadata": {
    "colab": {
     "base_uri": "https://localhost:8080/",
     "height": 267
    },
    "id": "wx2tbbKTEFIs",
    "outputId": "66809bfe-ded1-43d3-f771-6fbdffe91631"
   },
   "outputs": [
    {
     "data": {
      "text/html": [
       "<div>\n",
       "<style scoped>\n",
       "    .dataframe tbody tr th:only-of-type {\n",
       "        vertical-align: middle;\n",
       "    }\n",
       "\n",
       "    .dataframe tbody tr th {\n",
       "        vertical-align: top;\n",
       "    }\n",
       "\n",
       "    .dataframe thead th {\n",
       "        text-align: right;\n",
       "    }\n",
       "</style>\n",
       "<table border=\"1\" class=\"dataframe\">\n",
       "  <thead>\n",
       "    <tr style=\"text-align: right;\">\n",
       "      <th></th>\n",
       "      <th>Transaction_ID</th>\n",
       "      <th>Customer_ID</th>\n",
       "      <th>Name</th>\n",
       "      <th>Email</th>\n",
       "      <th>Phone</th>\n",
       "      <th>Address</th>\n",
       "      <th>City</th>\n",
       "      <th>State</th>\n",
       "      <th>Zipcode</th>\n",
       "      <th>Country</th>\n",
       "      <th>Age</th>\n",
       "      <th>Gender</th>\n",
       "      <th>Income</th>\n",
       "      <th>Customer_Segment</th>\n",
       "      <th>Date</th>\n",
       "      <th>Year</th>\n",
       "      <th>Month</th>\n",
       "      <th>Time</th>\n",
       "      <th>Total_Purchases</th>\n",
       "      <th>Amount</th>\n",
       "      <th>Total_Amount</th>\n",
       "      <th>Product_Category</th>\n",
       "      <th>Product_Brand</th>\n",
       "      <th>Product_Type</th>\n",
       "      <th>Feedback</th>\n",
       "      <th>Shipping_Method</th>\n",
       "      <th>Payment_Method</th>\n",
       "      <th>Order_Status</th>\n",
       "      <th>Ratings</th>\n",
       "      <th>products</th>\n",
       "    </tr>\n",
       "  </thead>\n",
       "  <tbody>\n",
       "    <tr>\n",
       "      <th>0</th>\n",
       "      <td>8691788</td>\n",
       "      <td>37249</td>\n",
       "      <td>Michelle Harrington</td>\n",
       "      <td>Ebony39@gmail.com</td>\n",
       "      <td>1414786801</td>\n",
       "      <td>3959 Amanda Burgs</td>\n",
       "      <td>Dortmund</td>\n",
       "      <td>Berlin</td>\n",
       "      <td>77985</td>\n",
       "      <td>Germany</td>\n",
       "      <td>21</td>\n",
       "      <td>Male</td>\n",
       "      <td>Low</td>\n",
       "      <td>Regular</td>\n",
       "      <td>2023-09-18</td>\n",
       "      <td>2023</td>\n",
       "      <td>September</td>\n",
       "      <td>22:03:55</td>\n",
       "      <td>3.0</td>\n",
       "      <td>108.028757</td>\n",
       "      <td>324.086270</td>\n",
       "      <td>Clothing</td>\n",
       "      <td>Nike</td>\n",
       "      <td>Shorts</td>\n",
       "      <td>Excellent</td>\n",
       "      <td>Same-Day</td>\n",
       "      <td>Debit Card</td>\n",
       "      <td>Shipped</td>\n",
       "      <td>5</td>\n",
       "      <td>Cycling shorts</td>\n",
       "    </tr>\n",
       "    <tr>\n",
       "      <th>1</th>\n",
       "      <td>2174773</td>\n",
       "      <td>69749</td>\n",
       "      <td>Kelsey Hill</td>\n",
       "      <td>Mark36@gmail.com</td>\n",
       "      <td>-2147483648</td>\n",
       "      <td>82072 Dawn Centers</td>\n",
       "      <td>Nottingham</td>\n",
       "      <td>England</td>\n",
       "      <td>99071</td>\n",
       "      <td>UK</td>\n",
       "      <td>19</td>\n",
       "      <td>Female</td>\n",
       "      <td>Low</td>\n",
       "      <td>Premium</td>\n",
       "      <td>2023-12-31</td>\n",
       "      <td>2023</td>\n",
       "      <td>December</td>\n",
       "      <td>08:42:04</td>\n",
       "      <td>2.0</td>\n",
       "      <td>403.353907</td>\n",
       "      <td>806.707815</td>\n",
       "      <td>Electronics</td>\n",
       "      <td>Samsung</td>\n",
       "      <td>Tablet</td>\n",
       "      <td>Excellent</td>\n",
       "      <td>Standard</td>\n",
       "      <td>Credit Card</td>\n",
       "      <td>Processing</td>\n",
       "      <td>4</td>\n",
       "      <td>Lenovo Tab</td>\n",
       "    </tr>\n",
       "    <tr>\n",
       "      <th>2</th>\n",
       "      <td>6679610</td>\n",
       "      <td>30192</td>\n",
       "      <td>Scott Jensen</td>\n",
       "      <td>Shane85@gmail.com</td>\n",
       "      <td>-2147483648</td>\n",
       "      <td>4133 Young Canyon</td>\n",
       "      <td>Geelong</td>\n",
       "      <td>New South Wales</td>\n",
       "      <td>75929</td>\n",
       "      <td>Australia</td>\n",
       "      <td>48</td>\n",
       "      <td>Male</td>\n",
       "      <td>Low</td>\n",
       "      <td>Regular</td>\n",
       "      <td>2023-04-26</td>\n",
       "      <td>2023</td>\n",
       "      <td>April</td>\n",
       "      <td>04:06:29</td>\n",
       "      <td>3.0</td>\n",
       "      <td>354.477600</td>\n",
       "      <td>1063.432799</td>\n",
       "      <td>Books</td>\n",
       "      <td>Penguin Books</td>\n",
       "      <td>Children's</td>\n",
       "      <td>Average</td>\n",
       "      <td>Same-Day</td>\n",
       "      <td>Credit Card</td>\n",
       "      <td>Processing</td>\n",
       "      <td>2</td>\n",
       "      <td>Sports equipment</td>\n",
       "    </tr>\n",
       "  </tbody>\n",
       "</table>\n",
       "</div>"
      ],
      "text/plain": [
       "   Transaction_ID  Customer_ID                 Name              Email  \\\n",
       "0         8691788        37249  Michelle Harrington  Ebony39@gmail.com   \n",
       "1         2174773        69749          Kelsey Hill   Mark36@gmail.com   \n",
       "2         6679610        30192         Scott Jensen  Shane85@gmail.com   \n",
       "\n",
       "        Phone             Address        City            State  Zipcode  \\\n",
       "0  1414786801   3959 Amanda Burgs    Dortmund           Berlin    77985   \n",
       "1 -2147483648  82072 Dawn Centers  Nottingham          England    99071   \n",
       "2 -2147483648   4133 Young Canyon     Geelong  New South Wales    75929   \n",
       "\n",
       "     Country  Age  Gender Income Customer_Segment        Date  Year  \\\n",
       "0    Germany   21    Male    Low          Regular  2023-09-18  2023   \n",
       "1         UK   19  Female    Low          Premium  2023-12-31  2023   \n",
       "2  Australia   48    Male    Low          Regular  2023-04-26  2023   \n",
       "\n",
       "       Month      Time  Total_Purchases      Amount  Total_Amount  \\\n",
       "0  September  22:03:55              3.0  108.028757    324.086270   \n",
       "1   December  08:42:04              2.0  403.353907    806.707815   \n",
       "2      April  04:06:29              3.0  354.477600   1063.432799   \n",
       "\n",
       "  Product_Category  Product_Brand Product_Type   Feedback Shipping_Method  \\\n",
       "0         Clothing           Nike       Shorts  Excellent        Same-Day   \n",
       "1      Electronics        Samsung       Tablet  Excellent        Standard   \n",
       "2            Books  Penguin Books   Children's    Average        Same-Day   \n",
       "\n",
       "  Payment_Method Order_Status  Ratings          products  \n",
       "0     Debit Card      Shipped        5    Cycling shorts  \n",
       "1    Credit Card   Processing        4        Lenovo Tab  \n",
       "2    Credit Card   Processing        2  Sports equipment  "
      ]
     },
     "execution_count": 16,
     "metadata": {},
     "output_type": "execute_result"
    }
   ],
   "source": [
    "data.head(3)"
   ]
  },
  {
   "cell_type": "code",
   "execution_count": 17,
   "metadata": {
    "id": "7MaTmpQFEFIs"
   },
   "outputs": [],
   "source": [
    "data['Total_Purchases'] = data['Total_Purchases'].interpolate(direction='both')\n",
    "data['Amount'] = data['Amount'].interpolate(direction='both')\n",
    "\n",
    "data['Total_Amount'] = data['Total_Purchases'] * data['Amount']"
   ]
  },
  {
   "cell_type": "code",
   "execution_count": 18,
   "metadata": {
    "colab": {
     "base_uri": "https://localhost:8080/",
     "height": 1000
    },
    "id": "XZj3HYS_EFIs",
    "outputId": "8d0fa7ed-8da4-4b9b-cf5d-a9adb180383b"
   },
   "outputs": [
    {
     "data": {
      "text/plain": [
       "Transaction_ID        0\n",
       "Customer_ID           0\n",
       "Name                382\n",
       "Email               347\n",
       "Phone                 0\n",
       "Address             315\n",
       "City                248\n",
       "State               281\n",
       "Zipcode               0\n",
       "Country             271\n",
       "Age                   0\n",
       "Gender              317\n",
       "Income              290\n",
       "Customer_Segment    215\n",
       "Date                359\n",
       "Year                  0\n",
       "Month               273\n",
       "Time                350\n",
       "Total_Purchases       0\n",
       "Amount                0\n",
       "Total_Amount          0\n",
       "Product_Category    283\n",
       "Product_Brand       281\n",
       "Product_Type          0\n",
       "Feedback            184\n",
       "Shipping_Method     337\n",
       "Payment_Method      297\n",
       "Order_Status        235\n",
       "Ratings               0\n",
       "products              0\n",
       "dtype: int64"
      ]
     },
     "execution_count": 18,
     "metadata": {},
     "output_type": "execute_result"
    }
   ],
   "source": [
    "data.isnull().sum()"
   ]
  },
  {
   "cell_type": "code",
   "execution_count": 19,
   "metadata": {
    "colab": {
     "base_uri": "https://localhost:8080/"
    },
    "id": "K6d0oltaEFIt",
    "outputId": "4809e2cc-cc90-479a-823d-bfac2d88abb3"
   },
   "outputs": [
    {
     "name": "stdout",
     "output_type": "stream",
     "text": [
      "<class 'pandas.core.frame.DataFrame'>\n",
      "Index: 302006 entries, 0 to 302009\n",
      "Data columns (total 30 columns):\n",
      " #   Column            Non-Null Count   Dtype  \n",
      "---  ------            --------------   -----  \n",
      " 0   Transaction_ID    302006 non-null  int32  \n",
      " 1   Customer_ID       302006 non-null  int32  \n",
      " 2   Name              301624 non-null  object \n",
      " 3   Email             301659 non-null  object \n",
      " 4   Phone             302006 non-null  int32  \n",
      " 5   Address           301691 non-null  object \n",
      " 6   City              301758 non-null  object \n",
      " 7   State             301725 non-null  object \n",
      " 8   Zipcode           302006 non-null  int32  \n",
      " 9   Country           301735 non-null  object \n",
      " 10  Age               302006 non-null  int32  \n",
      " 11  Gender            301689 non-null  object \n",
      " 12  Income            301716 non-null  object \n",
      " 13  Customer_Segment  301791 non-null  object \n",
      " 14  Date              301647 non-null  object \n",
      " 15  Year              302006 non-null  int32  \n",
      " 16  Month             301733 non-null  object \n",
      " 17  Time              301656 non-null  object \n",
      " 18  Total_Purchases   302006 non-null  float64\n",
      " 19  Amount            302006 non-null  float64\n",
      " 20  Total_Amount      302006 non-null  float64\n",
      " 21  Product_Category  301723 non-null  object \n",
      " 22  Product_Brand     301725 non-null  object \n",
      " 23  Product_Type      302006 non-null  object \n",
      " 24  Feedback          301822 non-null  object \n",
      " 25  Shipping_Method   301669 non-null  object \n",
      " 26  Payment_Method    301709 non-null  object \n",
      " 27  Order_Status      301771 non-null  object \n",
      " 28  Ratings           302006 non-null  int32  \n",
      " 29  products          302006 non-null  object \n",
      "dtypes: float64(3), int32(7), object(20)\n",
      "memory usage: 63.4+ MB\n"
     ]
    }
   ],
   "source": [
    "data.info()"
   ]
  },
  {
   "cell_type": "code",
   "execution_count": 20,
   "metadata": {
    "id": "ahaYz4LrEFIt"
   },
   "outputs": [],
   "source": [
    "# Fill null values in categorical columns with mode                                      #same in Categorical col of you have more time some values then it was getting mode from it ...\n",
    "categorical_cols = data.select_dtypes(include=['object']).columns                          # like : red,blue,gree,red  : then mode id red it was fill in : NAN values ......\n",
    "data[categorical_cols] = data[categorical_cols].fillna(data[categorical_cols].mode().iloc[0])\n",
    "\n",
    "cat_columns = data.select_dtypes(include=['object']).columns\n",
    "for col in cat_columns:\n",
    "    data[col].fillna(data[col].mode()[0], inplace=True)"
   ]
  },
  {
   "cell_type": "code",
   "execution_count": 21,
   "metadata": {
    "colab": {
     "base_uri": "https://localhost:8080/",
     "height": 1000
    },
    "id": "QzekZx46EFIt",
    "outputId": "57be29c2-8d52-477b-9c06-01533edd0c64"
   },
   "outputs": [
    {
     "data": {
      "text/plain": [
       "Transaction_ID      0\n",
       "Customer_ID         0\n",
       "Name                0\n",
       "Email               0\n",
       "Phone               0\n",
       "Address             0\n",
       "City                0\n",
       "State               0\n",
       "Zipcode             0\n",
       "Country             0\n",
       "Age                 0\n",
       "Gender              0\n",
       "Income              0\n",
       "Customer_Segment    0\n",
       "Date                0\n",
       "Year                0\n",
       "Month               0\n",
       "Time                0\n",
       "Total_Purchases     0\n",
       "Amount              0\n",
       "Total_Amount        0\n",
       "Product_Category    0\n",
       "Product_Brand       0\n",
       "Product_Type        0\n",
       "Feedback            0\n",
       "Shipping_Method     0\n",
       "Payment_Method      0\n",
       "Order_Status        0\n",
       "Ratings             0\n",
       "products            0\n",
       "dtype: int64"
      ]
     },
     "execution_count": 21,
     "metadata": {},
     "output_type": "execute_result"
    }
   ],
   "source": [
    "data.isnull().sum()"
   ]
  },
  {
   "cell_type": "code",
   "execution_count": 22,
   "metadata": {
    "colab": {
     "base_uri": "https://localhost:8080/",
     "height": 472
    },
    "id": "_az5X_u8zNG7",
    "outputId": "a13e12a8-dd59-4a62-eb0d-dd1ec01e1f04"
   },
   "outputs": [
    {
     "data": {
      "image/png": "[encoded data removed]",
      "text/plain": [
       "<Figure size 640x480 with 1 Axes>"
      ]
     },
     "metadata": {},
     "output_type": "display_data"
    }
   ],
   "source": [
    "from sklearn.cluster import KMeans\n",
    "import matplotlib.pyplot as plt\n",
    "import seaborn as sns\n",
    "segmentation_features = data[['Total_Purchases', 'Total_Amount']].dropna()\n",
    "from sklearn.preprocessing import StandardScaler\n",
    "\n",
    "scaler = StandardScaler()\n",
    "scaled_features = scaler.fit_transform(segmentation_features)\n",
    "\n",
    "inertia = []\n",
    "for k in range(1, 11):\n",
    "    kmeans = KMeans(n_clusters=k, random_state=42)\n",
    "    kmeans.fit(scaled_features)\n",
    "    inertia.append(kmeans.inertia_)\n",
    "\n",
    "plt.plot(range(1, 11), inertia, marker='o')\n",
    "plt.title('Elbow Method')\n",
    "plt.xlabel('Number of Clusters')\n",
    "plt.ylabel('Inertia')\n",
    "plt.show()\n"
   ]
  },
  {
   "cell_type": "code",
   "execution_count": 23,
   "metadata": {
    "id": "rBwIDO9rzpV6"
   },
   "outputs": [],
   "source": [
    "kmeans = KMeans(n_clusters=3, random_state=42)\n",
    "data['Cluster'] = kmeans.fit_predict(scaled_features)\n"
   ]
  },
  {
   "cell_type": "code",
   "execution_count": 24,
   "metadata": {
    "colab": {
     "base_uri": "https://localhost:8080/",
     "height": 472
    },
    "id": "gp9K4G_CzxFo",
    "outputId": "a07406ed-8335-4913-a318-8050cd7e9481"
   },
   "outputs": [
    {
     "data": {
      "image/png": "[encoded data removed]",
      "text/plain": [
       "<Figure size 640x480 with 1 Axes>"
      ]
     },
     "metadata": {},
     "output_type": "display_data"
    }
   ],
   "source": [
    "sns.scatterplot(x=data['Total_Purchases'], y=data['Total_Amount'], hue=data['Cluster'], palette='viridis')\n",
    "plt.title('Customer Segmentation')\n",
    "plt.xlabel('Total Purchases')\n",
    "plt.ylabel('Total Amount')\n",
    "plt.show()\n"
   ]
  },
  {
   "cell_type": "code",
   "execution_count": 25,
   "metadata": {
    "colab": {
     "base_uri": "https://localhost:8080/"
    },
    "id": "yPDD_E8uz27W",
    "outputId": "fdd81fb9-cf24-48cb-f4d6-f382125d459c"
   },
   "outputs": [
    {
     "name": "stdout",
     "output_type": "stream",
     "text": [
      "Cluster Summary:\n",
      "   Cluster  Avg_Purchases  Customer_Count  Total_Purchases   Avg_Amount  \\\n",
      "0        0       2.541120          126300         320943.5   546.099626   \n",
      "1        1       8.507910           62576         532391.0  3175.004375   \n",
      "2        2       6.764771          113130         765298.5  1285.244486   \n",
      "\n",
      "   Total_Amount  \n",
      "0  6.897238e+07  \n",
      "1  1.986791e+08  \n",
      "2  1.453997e+08  \n"
     ]
    }
   ],
   "source": [
    "# Analyze cluster characteristics\n",
    "cluster_summary = data.groupby('Cluster').agg({\n",
    "    'Total_Purchases': ['mean', 'count', 'sum'],\n",
    "    'Total_Amount': ['mean', 'sum'],\n",
    "}).reset_index()\n",
    "\n",
    "# Rename columns for clarity\n",
    "cluster_summary.columns = ['Cluster',\n",
    "                           'Avg_Purchases', 'Customer_Count', 'Total_Purchases',\n",
    "                           'Avg_Amount', 'Total_Amount']\n",
    "\n",
    "print(\"Cluster Summary:\")\n",
    "print(cluster_summary)\n"
   ]
  },
  {
   "cell_type": "code",
   "execution_count": 26,
   "metadata": {
    "colab": {
     "base_uri": "https://localhost:8080/"
    },
    "id": "D-IcLpk62cBE",
    "outputId": "8328edfa-83f9-4e20-9430-d71b8a6a2fa6"
   },
   "outputs": [
    {
     "name": "stdout",
     "output_type": "stream",
     "text": [
      "Number of High-Value Customers: 113130\n"
     ]
    }
   ],
   "source": [
    "# Filter high-value customers (Cluster 2)\n",
    "high_value_customers = data[data['Cluster'] == 2]\n",
    "\n",
    "# Save this segment for marketing\n",
    "high_value_customers.to_csv('high_value_customers.csv', index=False)\n",
    "\n",
    "print(f\"Number of High-Value Customers: {len(high_value_customers)}\")\n"
   ]
  },
  {
   "cell_type": "code",
   "execution_count": 27,
   "metadata": {
    "colab": {
     "base_uri": "https://localhost:8080/"
    },
    "id": "Dyud9ICY2l2d",
    "outputId": "7b2e3601-aa7e-474f-effc-08523d84b00f"
   },
   "outputs": [
    {
     "name": "stdout",
     "output_type": "stream",
     "text": [
      "Number of Low-Value Customers: 126300\n"
     ]
    }
   ],
   "source": [
    "# Filter low-value customers (Cluster 0)\n",
    "low_value_customers = data[data['Cluster'] == 0]\n",
    "\n",
    "# Save this segment for re-engagement\n",
    "low_value_customers.to_csv('low_value_customers.csv', index=False)\n",
    "\n",
    "print(f\"Number of Low-Value Customers: {len(low_value_customers)}\")\n"
   ]
  },
  {
   "cell_type": "code",
   "execution_count": 28,
   "metadata": {
    "colab": {
     "base_uri": "https://localhost:8080/"
    },
    "id": "wbIY8J5I2uFh",
    "outputId": "10395633-4679-445a-8d30-6d9d1ad44771"
   },
   "outputs": [
    {
     "name": "stdout",
     "output_type": "stream",
     "text": [
      "Product Preferences by Cluster:\n",
      "Product_Category  Books  Clothing  Electronics  Grocery  Home Decor\n",
      "Cluster                                                            \n",
      "0                 22908     22897        29921    27873       22701\n",
      "1                 11242     11491        14819    13666       11358\n",
      "2                 20472     20351        26739    25245       20323\n"
     ]
    }
   ],
   "source": [
    "# Example: Analyzing product preferences by cluster\n",
    "product_preferences = data.groupby(['Cluster', 'Product_Category']).size().unstack().fillna(0)\n",
    "\n",
    "print(\"Product Preferences by Cluster:\")\n",
    "print(product_preferences)\n"
   ]
  },
  {
   "cell_type": "code",
   "execution_count": 29,
   "metadata": {
    "colab": {
     "base_uri": "https://localhost:8080/",
     "height": 538
    },
    "id": "oqWFYL8G2y0n",
    "outputId": "0ae928be-5656-43f6-bc8f-cfc227de77f8"
   },
   "outputs": [
    {
     "name": "stdout",
     "output_type": "stream",
     "text": [
      "Cluster Trends Over Time:\n",
      "Cluster       0      1      2\n",
      "Year                         \n",
      "2023     105321  52317  94560\n",
      "2024      20979  10259  18570\n"
     ]
    },
    {
     "data": {
      "image/png": "[encoded data removed]",
      "text/plain": [
       "<Figure size 1000x600 with 1 Axes>"
      ]
     },
     "metadata": {},
     "output_type": "display_data"
    }
   ],
   "source": [
    "# Example: Track clusters over time (if you have a 'Year' column)\n",
    "cluster_trends = data.groupby(['Year', 'Cluster']).size().unstack(fill_value=0)\n",
    "\n",
    "print(\"Cluster Trends Over Time:\")\n",
    "print(cluster_trends)\n",
    "\n",
    "# Visualize the trends\n",
    "cluster_trends.plot(kind='bar', stacked=True, figsize=(10, 6))\n",
    "plt.title(\"Cluster Distribution Over Time\")\n",
    "plt.xlabel(\"Year\")\n",
    "plt.ylabel(\"Number of Customers\")\n",
    "plt.show()\n"
   ]
  },
  {
   "cell_type": "code",
   "execution_count": 30,
   "metadata": {
    "colab": {
     "base_uri": "https://localhost:8080/"
    },
    "id": "FdC0Rx9J3Tiq",
    "outputId": "207804bc-2bb1-4898-d5e8-0019a8209c9b"
   },
   "outputs": [
    {
     "name": "stdout",
     "output_type": "stream",
     "text": [
      "Model Accuracy: 99.99%\n"
     ]
    }
   ],
   "source": [
    "from sklearn.model_selection import train_test_split\n",
    "from sklearn.ensemble import RandomForestClassifier\n",
    "\n",
    "# Use relevant features for prediction\n",
    "features = data[['Total_Purchases', 'Total_Amount']]\n",
    "target = data['Cluster']\n",
    "\n",
    "# Split the data\n",
    "X_train, X_test, y_train, y_test = train_test_split(features, target, test_size=0.2, random_state=42)\n",
    "\n",
    "# Train a Random Forest Classifier\n",
    "clf = RandomForestClassifier(random_state=42)\n",
    "clf.fit(X_train, y_train)\n",
    "\n",
    "# Evaluate the model\n",
    "accuracy = clf.score(X_test, y_test)\n",
    "print(f\"Model Accuracy: {accuracy * 100:.2f}%\")\n"
   ]
  },
  {
   "cell_type": "code",
   "execution_count": 31,
   "metadata": {
    "colab": {
     "base_uri": "https://localhost:8080/"
    },
    "id": "dn6LLX0b4AiQ",
    "outputId": "b757edd0-2185-4025-c09d-475a049ff3ba"
   },
   "outputs": [
    {
     "name": "stdout",
     "output_type": "stream",
     "text": [
      "   Total_Purchases  Total_Amount  Predicted_Cluster\n",
      "0               10          1200                  2\n",
      "1               25          4000                  1\n",
      "2                5           500                  0\n"
     ]
    }
   ],
   "source": [
    "# Example: New customer data for prediction\n",
    "new_customer_data = pd.DataFrame({\n",
    "    'Total_Purchases': [10, 25, 5],\n",
    "    'Total_Amount': [1200, 4000, 500]\n",
    "})\n",
    "\n",
    "# Ensure only the same feature columns are used\n",
    "# (Matching the columns used during model training)\n",
    "predict_features = new_customer_data[['Total_Purchases', 'Total_Amount']]\n",
    "\n",
    "# Predict the cluster\n",
    "predicted_clusters = clf.predict(predict_features)\n",
    "\n",
    "# Add predictions to the new data\n",
    "new_customer_data['Predicted_Cluster'] = predicted_clusters\n",
    "print(new_customer_data)\n"
   ]
  },
  {
   "cell_type": "code",
   "execution_count": 32,
   "metadata": {
    "id": "MvWhnivW7olP"
   },
   "outputs": [],
   "source": [
    "import pickle"
   ]
  },
  {
   "cell_type": "code",
   "execution_count": 33,
   "metadata": {
    "id": "JZsBM7_tfvzu"
   },
   "outputs": [],
   "source": [
    "file_name = 'customer_segmentation_model.pkl'\n",
    "pickle.dump(clf,open (file_name,'wb'))"
   ]
  },
  {
   "cell_type": "code",
   "execution_count": 34,
   "metadata": {
    "id": "mgRqqgGngSoe"
   },
   "outputs": [],
   "source": [
    "loaded_model=pickle.load(open(file_name,'rb'))"
   ]
  },
  {
   "cell_type": "code",
   "execution_count": 35,
   "metadata": {
    "colab": {
     "base_uri": "https://localhost:8080/"
    },
    "id": "qBySjOdTigba",
    "outputId": "09453a45-6ca4-458f-8d4f-070bd36b9602"
   },
   "outputs": [
    {
     "name": "stdout",
     "output_type": "stream",
     "text": [
      "[2, 1, 0]\n",
      "High Value Customer\n",
      "Mid Value Customer\n",
      "Low Value Customer\n"
     ]
    }
   ],
   "source": [
    "input_data = pd.DataFrame({\n",
    "    'Total_Purchases': [10, 25, 5],\n",
    "    'Total_Amount': [1200, 4000, 500]\n",
    "})\n",
    "\n",
    "predictions = []  # To store predictions for each row\n",
    "for index in input_data.index:\n",
    "    row_data = input_data.loc[[index]]  # Get data for current row\n",
    "    row_data_as_numpy_array = np.asarray(row_data)\n",
    "    row_data_reshaped = row_data_as_numpy_array.reshape(1, -1)  # Reshape to (1, 2)\n",
    "    prediction = loaded_model.predict(row_data_reshaped)\n",
    "    predictions.append(prediction[0])  # Store prediction for current row\n",
    "\n",
    "print(predictions)  # Print all predictions\n",
    "\n",
    "for prediction in predictions:\n",
    "    if prediction == 0:\n",
    "        print('Low Value Customer')\n",
    "    elif prediction == 1:\n",
    "        print('Mid Value Customer')\n",
    "    else:\n",
    "        print('High Value Customer')"
   ]
  },
  {
   "cell_type": "code",
   "execution_count": 36,
   "metadata": {
    "colab": {
     "base_uri": "https://localhost:8080/"
    },
    "id": "G4LFc0sW3Ryt",
    "outputId": "0d404dcd-8560-490f-e92f-1d836993ac81"
   },
   "outputs": [
    {
     "name": "stdout",
     "output_type": "stream",
     "text": [
      "Model saved successfully!\n"
     ]
    }
   ],
   "source": [
    "import joblib\n",
    "\n",
    "# Save the trained clustering model\n",
    "joblib.dump(clf, 'customer_segmentation_model.pkl')\n",
    "\n",
    "print(\"Model saved successfully!\")\n"
   ]
  },
  {
   "cell_type": "code",
   "execution_count": 40,
   "metadata": {
    "id": "C-81DtpA_8lb"
   },
   "outputs": [
    {
     "name": "stdout",
     "output_type": "stream",
     "text": [
      " * Serving Flask app '__main__'\n",
      " * Debug mode: on\n"
     ]
    },
    {
     "name": "stderr",
     "output_type": "stream",
     "text": [
      "WARNING: This is a development server. Do not use it in a production deployment. Use a production WSGI server instead.\n",
      " * Running on http://127.0.0.1:5000\n",
      "Press CTRL+C to quit\n",
      " * Restarting with watchdog (windowsapi)\n"
     ]
    },
    {
     "ename": "SystemExit",
     "evalue": "1",
     "output_type": "error",
     "traceback": [
      "An exception has occurred, use %tb to see the full traceback.\n",
      "\u001b[1;31mSystemExit\u001b[0m\u001b[1;31m:\u001b[0m 1\n"
     ]
    }
   ],
   "source": []
  },
  {
   "cell_type": "code",
   "execution_count": null,
   "metadata": {
    "id": "TkWSn4CNAAII"
   },
   "outputs": [],
   "source": []
  }
 ],
 "metadata": {
  "colab": {
   "provenance": []
  },
  "kaggle": {
   "accelerator": "none",
   "dataSources": [
    {
     "datasetId": 5213392,
     "sourceId": 8693643,
     "sourceType": "datasetVersion"
    }
   ],
   "dockerImageVersionId": 30732,
   "isGpuEnabled": false,
   "isInternetEnabled": false,
   "language": "python",
   "sourceType": "notebook"
  },
  "kernelspec": {
   "display_name": "Python 3 (ipykernel)",
   "language": "python",
   "name": "python3"
  },
  "language_info": {
   "codemirror_mode": {
    "name": "ipython",
    "version": 3
   },
   "file_extension": ".py",
   "mimetype": "text/x-python",
   "name": "python",
   "nbconvert_exporter": "python",
   "pygments_lexer": "ipython3",
   "version": "3.12.3"
  }
 },
 "nbformat": 4,
 "nbformat_minor": 4
}
